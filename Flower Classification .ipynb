{
 "cells": [
  {
   "cell_type": "code",
   "execution_count": 1,
   "id": "07440785",
   "metadata": {},
   "outputs": [],
   "source": [
    "import numpy as np\n",
    "import tensorflow as tf\n",
    "from keras.preprocessing.image import ImageDataGenerator"
   ]
  },
  {
   "cell_type": "code",
   "execution_count": 2,
   "id": "b1660182",
   "metadata": {},
   "outputs": [
    {
     "name": "stdout",
     "output_type": "stream",
     "text": [
      "Found 3033 images belonging to 5 classes.\n"
     ]
    }
   ],
   "source": [
    "train_data_generator = ImageDataGenerator(rescale=1./255, shear_range=0.2, zoom_range=0.2, horizontal_flip=True)\n",
    "training_set = train_data_generator.flow_from_directory(\"train\", target_size=(64,64), batch_size=32, class_mode=\"categorical\") "
   ]
  },
  {
   "cell_type": "code",
   "execution_count": 3,
   "id": "e9adfd64",
   "metadata": {},
   "outputs": [
    {
     "name": "stdout",
     "output_type": "stream",
     "text": [
      "Found 1284 images belonging to 5 classes.\n"
     ]
    }
   ],
   "source": [
    "test_data_generator = ImageDataGenerator(rescale=1./255)\n",
    "testing_set = test_data_generator.flow_from_directory(\"test\", target_size=(64,64), batch_size=32, class_mode=\"categorical\") "
   ]
  },
  {
   "cell_type": "code",
   "execution_count": 4,
   "id": "ec3078ff",
   "metadata": {},
   "outputs": [],
   "source": [
    "model = tf.keras.Sequential()"
   ]
  },
  {
   "cell_type": "code",
   "execution_count": 5,
   "id": "72b3ceba",
   "metadata": {},
   "outputs": [],
   "source": [
    "model.add(tf.keras.layers.Conv2D(filters=64, kernel_size=3, activation=\"relu\", input_shape=[64,64,3]))\n",
    "model.add(tf.keras.layers.MaxPool2D(pool_size=2, strides=2))\n",
    "\n",
    "model.add(tf.keras.layers.Conv2D(filters=64, kernel_size=3, activation=\"relu\"))\n",
    "model.add(tf.keras.layers.MaxPool2D(pool_size=2, strides=2))\n",
    "\n",
    "model.add(tf.keras.layers.Dropout(0.5))\n",
    "\n",
    "model.add(tf.keras.layers.Flatten())"
   ]
  },
  {
   "cell_type": "code",
   "execution_count": 6,
   "id": "97a3fea3",
   "metadata": {},
   "outputs": [],
   "source": [
    "model.add(tf.keras.layers.Dense(units=128, activation=\"relu\"))"
   ]
  },
  {
   "cell_type": "code",
   "execution_count": 7,
   "id": "b4d87eff",
   "metadata": {},
   "outputs": [],
   "source": [
    "# Output layer\n",
    "model.add(tf.keras.layers.Dense(units=5, activation=\"softmax\"))"
   ]
  },
  {
   "cell_type": "code",
   "execution_count": 8,
   "id": "630e876c",
   "metadata": {},
   "outputs": [],
   "source": [
    "model.compile(optimizer=\"rmsprop\", loss=\"categorical_crossentropy\", metrics=[\"accuracy\"])"
   ]
  },
  {
   "cell_type": "code",
   "execution_count": 9,
   "id": "d6ff32c7",
   "metadata": {},
   "outputs": [
    {
     "name": "stdout",
     "output_type": "stream",
     "text": [
      "Epoch 1/30\n",
      "95/95 [==============================] - 213s 2s/step - loss: 1.4408 - accuracy: 0.3950 - val_loss: 1.2530 - val_accuracy: 0.4065\n",
      "Epoch 2/30\n",
      "95/95 [==============================] - 33s 351ms/step - loss: 1.1485 - accuracy: 0.5223 - val_loss: 1.4481 - val_accuracy: 0.4673\n",
      "Epoch 3/30\n",
      "95/95 [==============================] - 39s 413ms/step - loss: 1.0310 - accuracy: 0.5862 - val_loss: 1.4156 - val_accuracy: 0.4712\n",
      "Epoch 4/30\n",
      "95/95 [==============================] - 39s 405ms/step - loss: 0.9629 - accuracy: 0.6172 - val_loss: 1.2850 - val_accuracy: 0.5179\n",
      "Epoch 5/30\n",
      "95/95 [==============================] - 42s 442ms/step - loss: 0.9041 - accuracy: 0.6373 - val_loss: 1.0413 - val_accuracy: 0.6137\n",
      "Epoch 6/30\n",
      "95/95 [==============================] - 37s 391ms/step - loss: 0.8503 - accuracy: 0.6637 - val_loss: 1.1250 - val_accuracy: 0.5997\n",
      "Epoch 7/30\n",
      "95/95 [==============================] - 41s 429ms/step - loss: 0.8135 - accuracy: 0.6841 - val_loss: 1.0668 - val_accuracy: 0.6308\n",
      "Epoch 8/30\n",
      "95/95 [==============================] - 36s 377ms/step - loss: 0.7863 - accuracy: 0.6901 - val_loss: 0.9404 - val_accuracy: 0.6558\n",
      "Epoch 9/30\n",
      "95/95 [==============================] - 36s 381ms/step - loss: 0.7288 - accuracy: 0.7165 - val_loss: 0.9014 - val_accuracy: 0.6752\n",
      "Epoch 10/30\n",
      "95/95 [==============================] - 35s 365ms/step - loss: 0.7115 - accuracy: 0.7323 - val_loss: 1.1185 - val_accuracy: 0.6277\n",
      "Epoch 11/30\n",
      "95/95 [==============================] - 36s 375ms/step - loss: 0.6607 - accuracy: 0.7471 - val_loss: 1.1684 - val_accuracy: 0.6067\n",
      "Epoch 12/30\n",
      "95/95 [==============================] - 36s 374ms/step - loss: 0.6507 - accuracy: 0.7517 - val_loss: 1.1783 - val_accuracy: 0.6176\n",
      "Epoch 13/30\n",
      "95/95 [==============================] - 36s 380ms/step - loss: 0.6283 - accuracy: 0.7583 - val_loss: 0.9409 - val_accuracy: 0.7017\n",
      "Epoch 14/30\n",
      "95/95 [==============================] - 36s 380ms/step - loss: 0.6042 - accuracy: 0.7745 - val_loss: 1.0329 - val_accuracy: 0.6659\n",
      "Epoch 15/30\n",
      "95/95 [==============================] - 38s 396ms/step - loss: 0.5912 - accuracy: 0.7745 - val_loss: 0.9372 - val_accuracy: 0.6900\n",
      "Epoch 16/30\n",
      "95/95 [==============================] - 37s 393ms/step - loss: 0.5609 - accuracy: 0.7824 - val_loss: 1.0151 - val_accuracy: 0.6604\n",
      "Epoch 17/30\n",
      "95/95 [==============================] - 34s 360ms/step - loss: 0.5424 - accuracy: 0.8068 - val_loss: 1.1147 - val_accuracy: 0.6488\n",
      "Epoch 18/30\n",
      "95/95 [==============================] - 38s 404ms/step - loss: 0.5160 - accuracy: 0.7999 - val_loss: 1.0599 - val_accuracy: 0.6760\n",
      "Epoch 19/30\n",
      "95/95 [==============================] - 34s 359ms/step - loss: 0.4902 - accuracy: 0.8157 - val_loss: 1.0453 - val_accuracy: 0.6674\n",
      "Epoch 20/30\n",
      "95/95 [==============================] - 36s 375ms/step - loss: 0.4856 - accuracy: 0.8197 - val_loss: 1.1974 - val_accuracy: 0.6503\n",
      "Epoch 21/30\n",
      "95/95 [==============================] - 38s 399ms/step - loss: 0.4577 - accuracy: 0.8325 - val_loss: 1.0654 - val_accuracy: 0.6651\n",
      "Epoch 22/30\n",
      "95/95 [==============================] - 37s 390ms/step - loss: 0.4389 - accuracy: 0.8384 - val_loss: 1.0985 - val_accuracy: 0.6667\n",
      "Epoch 23/30\n",
      "95/95 [==============================] - 43s 457ms/step - loss: 0.4142 - accuracy: 0.8457 - val_loss: 1.0084 - val_accuracy: 0.6939\n",
      "Epoch 24/30\n",
      "95/95 [==============================] - 38s 401ms/step - loss: 0.4072 - accuracy: 0.8464 - val_loss: 1.1335 - val_accuracy: 0.6745\n",
      "Epoch 25/30\n",
      "95/95 [==============================] - 38s 395ms/step - loss: 0.3918 - accuracy: 0.8523 - val_loss: 1.2880 - val_accuracy: 0.6565\n",
      "Epoch 26/30\n",
      "95/95 [==============================] - 37s 387ms/step - loss: 0.3787 - accuracy: 0.8556 - val_loss: 1.2350 - val_accuracy: 0.6690\n",
      "Epoch 27/30\n",
      "95/95 [==============================] - 35s 363ms/step - loss: 0.3708 - accuracy: 0.8701 - val_loss: 1.1586 - val_accuracy: 0.6893\n",
      "Epoch 28/30\n",
      "95/95 [==============================] - 43s 449ms/step - loss: 0.3538 - accuracy: 0.8701 - val_loss: 1.2670 - val_accuracy: 0.6721\n",
      "Epoch 29/30\n",
      "95/95 [==============================] - 39s 409ms/step - loss: 0.3551 - accuracy: 0.8754 - val_loss: 1.1505 - val_accuracy: 0.6986\n",
      "Epoch 30/30\n",
      "95/95 [==============================] - 37s 386ms/step - loss: 0.3176 - accuracy: 0.8770 - val_loss: 1.1411 - val_accuracy: 0.7126\n"
     ]
    },
    {
     "data": {
      "text/plain": [
       "<keras.callbacks.History at 0x198c818dd90>"
      ]
     },
     "execution_count": 9,
     "metadata": {},
     "output_type": "execute_result"
    }
   ],
   "source": [
    "model.fit(x=training_set, validation_data=testing_set, epochs=30)"
   ]
  },
  {
   "cell_type": "code",
   "execution_count": 10,
   "id": "cae3a732",
   "metadata": {},
   "outputs": [],
   "source": [
    "from tensorflow.keras.utils import load_img\n",
    "import keras.utils as image"
   ]
  },
  {
   "cell_type": "code",
   "execution_count": 15,
   "id": "606c1fd5",
   "metadata": {},
   "outputs": [
    {
     "name": "stdout",
     "output_type": "stream",
     "text": [
      "1/1 [==============================] - 0s 37ms/step\n"
     ]
    }
   ],
   "source": [
    "sample = image.load_img(\"prediction/sunflowers.jpg\", target_size=(64,64))\n",
    "sample = image.img_to_array(sample)\n",
    "sample = np.expand_dims(sample, axis=0)\n",
    "result = model.predict(sample)"
   ]
  },
  {
   "cell_type": "code",
   "execution_count": 16,
   "id": "04a26cb4",
   "metadata": {},
   "outputs": [
    {
     "data": {
      "text/plain": [
       "{'daisy': 0, 'dandelion': 1, 'rose': 2, 'sunflower': 3, 'tulip': 4}"
      ]
     },
     "execution_count": 16,
     "metadata": {},
     "output_type": "execute_result"
    }
   ],
   "source": [
    "training_set.class_indices"
   ]
  },
  {
   "cell_type": "code",
   "execution_count": 17,
   "id": "37807cc1",
   "metadata": {},
   "outputs": [
    {
     "name": "stdout",
     "output_type": "stream",
     "text": [
      "index of flowes:  [[0. 0. 0. 1. 0.]]\n"
     ]
    }
   ],
   "source": [
    "print(\"index of flowes: \", result)"
   ]
  },
  {
   "cell_type": "code",
   "execution_count": 18,
   "id": "3c0f9dd6",
   "metadata": {},
   "outputs": [
    {
     "name": "stdout",
     "output_type": "stream",
     "text": [
      "SunFlower\n"
     ]
    }
   ],
   "source": [
    "if result[0][0]==1:\n",
    "    print('Daisy')\n",
    "elif result[0][1]==1:\n",
    "    print('Dandelion')\n",
    "elif result[0][2]==1:\n",
    "    print('Rose')\n",
    "elif result[0][3]==1:\n",
    "    print('SunFlower')\n",
    "elif result[0][4]==1:\n",
    "    print(\"Tulip\")"
   ]
  },
  {
   "cell_type": "code",
   "execution_count": null,
   "id": "fda56b3e",
   "metadata": {},
   "outputs": [],
   "source": []
  }
 ],
 "metadata": {
  "kernelspec": {
   "display_name": "flower_classification",
   "language": "python",
   "name": "flower_classification"
  },
  "language_info": {
   "codemirror_mode": {
    "name": "ipython",
    "version": 3
   },
   "file_extension": ".py",
   "mimetype": "text/x-python",
   "name": "python",
   "nbconvert_exporter": "python",
   "pygments_lexer": "ipython3",
   "version": "3.9.13"
  }
 },
 "nbformat": 4,
 "nbformat_minor": 5
}
